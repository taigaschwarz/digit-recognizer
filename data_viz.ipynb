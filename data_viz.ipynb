{
 "cells": [
  {
   "cell_type": "markdown",
   "id": "raising-portal",
   "metadata": {},
   "source": [
    "**Author:** Taiga Schwarz  \n",
    "**Date Created:** 2/17/21  \n",
    "\n",
    "# <center>Digit Recognizer Project: <br> Data Visualization</center> \n"
   ]
  },
  {
   "cell_type": "markdown",
   "id": "australian-effects",
   "metadata": {},
   "source": [
    "## Project Overview:  \n",
    "\n",
    "MNIST (\"Modified National Institute of Standards and Technology\") is the de facto “hello world” dataset of computer vision. Since its release in 1999, this classic dataset of handwritten images has served as the basis for benchmarking classification algorithms. As new machine learning techniques emerge, MNIST remains a reliable resource for researchers and learners alike.\n",
    "\n",
    "In this project, my goal is to correctly identify digits from a dataset of tens of thousands of handwritten images. It is worth noting that this is a knowledge-oriented project from Kaggle, which has a curated a set of tutorial-style kernels that cover everything from regression to neural networks."
   ]
  },
  {
   "cell_type": "markdown",
   "id": "enhanced-insulation",
   "metadata": {},
   "source": [
    "## Import Data Set:"
   ]
  },
  {
   "cell_type": "code",
   "execution_count": null,
   "id": "elect-column",
   "metadata": {},
   "outputs": [],
   "source": []
  }
 ],
 "metadata": {
  "kernelspec": {
   "display_name": "Python 3",
   "language": "python",
   "name": "python3"
  },
  "language_info": {
   "codemirror_mode": {
    "name": "ipython",
    "version": 3
   },
   "file_extension": ".py",
   "mimetype": "text/x-python",
   "name": "python",
   "nbconvert_exporter": "python",
   "pygments_lexer": "ipython3",
   "version": "3.8.2"
  }
 },
 "nbformat": 4,
 "nbformat_minor": 5
}

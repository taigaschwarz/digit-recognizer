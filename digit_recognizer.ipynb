{
 "cells": [
  {
   "cell_type": "markdown",
   "id": "absent-grammar",
   "metadata": {},
   "source": [
    "**Author:** Taiga Schwarz  \n",
    "**Date Created:** 2/17/21  \n",
    "\n",
    "# <center>Digit Recognizer Project:</center> \n"
   ]
  },
  {
   "cell_type": "markdown",
   "id": "alpine-institute",
   "metadata": {},
   "source": [
    "## Project Overview:\n",
    "\n",
    "MNIST (\"Modified National Institute of Standards and Technology\") is the de facto “hello world” dataset of computer vision. Since its release in 1999, this classic dataset of handwritten images has served as the basis for benchmarking classification algorithms. As new machine learning techniques emerge, MNIST remains a reliable resource for researchers and learners alike.\n",
    "\n",
    "In this project, my goal is to correctly identify digits from a dataset of tens of thousands of handwritten images. It is worth noting that this is a knowledge-oriented project from Kaggle, which has a curated a set of tutorial-style kernels that cover everything from regression to neural networks."
   ]
  },
  {
   "cell_type": "markdown",
   "id": "opened-royal",
   "metadata": {},
   "source": [
    "### Import Packages:"
   ]
  },
  {
   "cell_type": "code",
   "execution_count": 17,
   "id": "optical-photographer",
   "metadata": {},
   "outputs": [],
   "source": [
    "import pandas as pd\n",
    "import numpy as np\n",
    "import matplotlib.pyplot as plt\n",
    "import seaborn as sns"
   ]
  },
  {
   "cell_type": "markdown",
   "id": "damaged-principal",
   "metadata": {},
   "source": [
    "## Import Data Set:"
   ]
  },
  {
   "cell_type": "code",
   "execution_count": 18,
   "id": "arctic-permission",
   "metadata": {},
   "outputs": [],
   "source": [
    "# train data\n",
    "train_df = pd.read_csv(\"digit-recognizer-data/train.csv\")\n",
    "# test data\n",
    "test_df = pd.read_csv(\"digit-recognizer-data/test.csv\")"
   ]
  },
  {
   "cell_type": "markdown",
   "id": "30db3618",
   "metadata": {},
   "source": [
    "## Data Visualization:"
   ]
  },
  {
   "cell_type": "code",
   "execution_count": 19,
   "id": "beneficial-dancing",
   "metadata": {},
   "outputs": [
    {
     "name": "stdout",
     "output_type": "stream",
     "text": [
      "train data shape:  (42000, 785)\n",
      "test data shape:  (28000, 784)\n"
     ]
    }
   ],
   "source": [
    "# train data and test data shape\n",
    "print(\"train data shape: \", train_df.shape)\n",
    "print(\"test data shape: \", test_df.shape)"
   ]
  },
  {
   "cell_type": "code",
   "execution_count": 20,
   "id": "failing-mistake",
   "metadata": {},
   "outputs": [
    {
     "data": {
      "text/html": [
       "<div>\n",
       "<style scoped>\n",
       "    .dataframe tbody tr th:only-of-type {\n",
       "        vertical-align: middle;\n",
       "    }\n",
       "\n",
       "    .dataframe tbody tr th {\n",
       "        vertical-align: top;\n",
       "    }\n",
       "\n",
       "    .dataframe thead th {\n",
       "        text-align: right;\n",
       "    }\n",
       "</style>\n",
       "<table border=\"1\" class=\"dataframe\">\n",
       "  <thead>\n",
       "    <tr style=\"text-align: right;\">\n",
       "      <th></th>\n",
       "      <th>label</th>\n",
       "      <th>pixel0</th>\n",
       "      <th>pixel1</th>\n",
       "      <th>pixel2</th>\n",
       "      <th>pixel3</th>\n",
       "      <th>pixel4</th>\n",
       "      <th>pixel5</th>\n",
       "      <th>pixel6</th>\n",
       "      <th>pixel7</th>\n",
       "      <th>pixel8</th>\n",
       "      <th>...</th>\n",
       "      <th>pixel774</th>\n",
       "      <th>pixel775</th>\n",
       "      <th>pixel776</th>\n",
       "      <th>pixel777</th>\n",
       "      <th>pixel778</th>\n",
       "      <th>pixel779</th>\n",
       "      <th>pixel780</th>\n",
       "      <th>pixel781</th>\n",
       "      <th>pixel782</th>\n",
       "      <th>pixel783</th>\n",
       "    </tr>\n",
       "  </thead>\n",
       "  <tbody>\n",
       "    <tr>\n",
       "      <th>count</th>\n",
       "      <td>42000.000000</td>\n",
       "      <td>42000.0</td>\n",
       "      <td>42000.0</td>\n",
       "      <td>42000.0</td>\n",
       "      <td>42000.0</td>\n",
       "      <td>42000.0</td>\n",
       "      <td>42000.0</td>\n",
       "      <td>42000.0</td>\n",
       "      <td>42000.0</td>\n",
       "      <td>42000.0</td>\n",
       "      <td>...</td>\n",
       "      <td>42000.000000</td>\n",
       "      <td>42000.000000</td>\n",
       "      <td>42000.000000</td>\n",
       "      <td>42000.00000</td>\n",
       "      <td>42000.000000</td>\n",
       "      <td>42000.000000</td>\n",
       "      <td>42000.0</td>\n",
       "      <td>42000.0</td>\n",
       "      <td>42000.0</td>\n",
       "      <td>42000.0</td>\n",
       "    </tr>\n",
       "    <tr>\n",
       "      <th>mean</th>\n",
       "      <td>4.456643</td>\n",
       "      <td>0.0</td>\n",
       "      <td>0.0</td>\n",
       "      <td>0.0</td>\n",
       "      <td>0.0</td>\n",
       "      <td>0.0</td>\n",
       "      <td>0.0</td>\n",
       "      <td>0.0</td>\n",
       "      <td>0.0</td>\n",
       "      <td>0.0</td>\n",
       "      <td>...</td>\n",
       "      <td>0.219286</td>\n",
       "      <td>0.117095</td>\n",
       "      <td>0.059024</td>\n",
       "      <td>0.02019</td>\n",
       "      <td>0.017238</td>\n",
       "      <td>0.002857</td>\n",
       "      <td>0.0</td>\n",
       "      <td>0.0</td>\n",
       "      <td>0.0</td>\n",
       "      <td>0.0</td>\n",
       "    </tr>\n",
       "    <tr>\n",
       "      <th>std</th>\n",
       "      <td>2.887730</td>\n",
       "      <td>0.0</td>\n",
       "      <td>0.0</td>\n",
       "      <td>0.0</td>\n",
       "      <td>0.0</td>\n",
       "      <td>0.0</td>\n",
       "      <td>0.0</td>\n",
       "      <td>0.0</td>\n",
       "      <td>0.0</td>\n",
       "      <td>0.0</td>\n",
       "      <td>...</td>\n",
       "      <td>6.312890</td>\n",
       "      <td>4.633819</td>\n",
       "      <td>3.274488</td>\n",
       "      <td>1.75987</td>\n",
       "      <td>1.894498</td>\n",
       "      <td>0.414264</td>\n",
       "      <td>0.0</td>\n",
       "      <td>0.0</td>\n",
       "      <td>0.0</td>\n",
       "      <td>0.0</td>\n",
       "    </tr>\n",
       "    <tr>\n",
       "      <th>min</th>\n",
       "      <td>0.000000</td>\n",
       "      <td>0.0</td>\n",
       "      <td>0.0</td>\n",
       "      <td>0.0</td>\n",
       "      <td>0.0</td>\n",
       "      <td>0.0</td>\n",
       "      <td>0.0</td>\n",
       "      <td>0.0</td>\n",
       "      <td>0.0</td>\n",
       "      <td>0.0</td>\n",
       "      <td>...</td>\n",
       "      <td>0.000000</td>\n",
       "      <td>0.000000</td>\n",
       "      <td>0.000000</td>\n",
       "      <td>0.00000</td>\n",
       "      <td>0.000000</td>\n",
       "      <td>0.000000</td>\n",
       "      <td>0.0</td>\n",
       "      <td>0.0</td>\n",
       "      <td>0.0</td>\n",
       "      <td>0.0</td>\n",
       "    </tr>\n",
       "    <tr>\n",
       "      <th>25%</th>\n",
       "      <td>2.000000</td>\n",
       "      <td>0.0</td>\n",
       "      <td>0.0</td>\n",
       "      <td>0.0</td>\n",
       "      <td>0.0</td>\n",
       "      <td>0.0</td>\n",
       "      <td>0.0</td>\n",
       "      <td>0.0</td>\n",
       "      <td>0.0</td>\n",
       "      <td>0.0</td>\n",
       "      <td>...</td>\n",
       "      <td>0.000000</td>\n",
       "      <td>0.000000</td>\n",
       "      <td>0.000000</td>\n",
       "      <td>0.00000</td>\n",
       "      <td>0.000000</td>\n",
       "      <td>0.000000</td>\n",
       "      <td>0.0</td>\n",
       "      <td>0.0</td>\n",
       "      <td>0.0</td>\n",
       "      <td>0.0</td>\n",
       "    </tr>\n",
       "    <tr>\n",
       "      <th>50%</th>\n",
       "      <td>4.000000</td>\n",
       "      <td>0.0</td>\n",
       "      <td>0.0</td>\n",
       "      <td>0.0</td>\n",
       "      <td>0.0</td>\n",
       "      <td>0.0</td>\n",
       "      <td>0.0</td>\n",
       "      <td>0.0</td>\n",
       "      <td>0.0</td>\n",
       "      <td>0.0</td>\n",
       "      <td>...</td>\n",
       "      <td>0.000000</td>\n",
       "      <td>0.000000</td>\n",
       "      <td>0.000000</td>\n",
       "      <td>0.00000</td>\n",
       "      <td>0.000000</td>\n",
       "      <td>0.000000</td>\n",
       "      <td>0.0</td>\n",
       "      <td>0.0</td>\n",
       "      <td>0.0</td>\n",
       "      <td>0.0</td>\n",
       "    </tr>\n",
       "    <tr>\n",
       "      <th>75%</th>\n",
       "      <td>7.000000</td>\n",
       "      <td>0.0</td>\n",
       "      <td>0.0</td>\n",
       "      <td>0.0</td>\n",
       "      <td>0.0</td>\n",
       "      <td>0.0</td>\n",
       "      <td>0.0</td>\n",
       "      <td>0.0</td>\n",
       "      <td>0.0</td>\n",
       "      <td>0.0</td>\n",
       "      <td>...</td>\n",
       "      <td>0.000000</td>\n",
       "      <td>0.000000</td>\n",
       "      <td>0.000000</td>\n",
       "      <td>0.00000</td>\n",
       "      <td>0.000000</td>\n",
       "      <td>0.000000</td>\n",
       "      <td>0.0</td>\n",
       "      <td>0.0</td>\n",
       "      <td>0.0</td>\n",
       "      <td>0.0</td>\n",
       "    </tr>\n",
       "    <tr>\n",
       "      <th>max</th>\n",
       "      <td>9.000000</td>\n",
       "      <td>0.0</td>\n",
       "      <td>0.0</td>\n",
       "      <td>0.0</td>\n",
       "      <td>0.0</td>\n",
       "      <td>0.0</td>\n",
       "      <td>0.0</td>\n",
       "      <td>0.0</td>\n",
       "      <td>0.0</td>\n",
       "      <td>0.0</td>\n",
       "      <td>...</td>\n",
       "      <td>254.000000</td>\n",
       "      <td>254.000000</td>\n",
       "      <td>253.000000</td>\n",
       "      <td>253.00000</td>\n",
       "      <td>254.000000</td>\n",
       "      <td>62.000000</td>\n",
       "      <td>0.0</td>\n",
       "      <td>0.0</td>\n",
       "      <td>0.0</td>\n",
       "      <td>0.0</td>\n",
       "    </tr>\n",
       "  </tbody>\n",
       "</table>\n",
       "<p>8 rows × 785 columns</p>\n",
       "</div>"
      ],
      "text/plain": [
       "              label   pixel0   pixel1   pixel2   pixel3   pixel4   pixel5  \\\n",
       "count  42000.000000  42000.0  42000.0  42000.0  42000.0  42000.0  42000.0   \n",
       "mean       4.456643      0.0      0.0      0.0      0.0      0.0      0.0   \n",
       "std        2.887730      0.0      0.0      0.0      0.0      0.0      0.0   \n",
       "min        0.000000      0.0      0.0      0.0      0.0      0.0      0.0   \n",
       "25%        2.000000      0.0      0.0      0.0      0.0      0.0      0.0   \n",
       "50%        4.000000      0.0      0.0      0.0      0.0      0.0      0.0   \n",
       "75%        7.000000      0.0      0.0      0.0      0.0      0.0      0.0   \n",
       "max        9.000000      0.0      0.0      0.0      0.0      0.0      0.0   \n",
       "\n",
       "        pixel6   pixel7   pixel8  ...      pixel774      pixel775  \\\n",
       "count  42000.0  42000.0  42000.0  ...  42000.000000  42000.000000   \n",
       "mean       0.0      0.0      0.0  ...      0.219286      0.117095   \n",
       "std        0.0      0.0      0.0  ...      6.312890      4.633819   \n",
       "min        0.0      0.0      0.0  ...      0.000000      0.000000   \n",
       "25%        0.0      0.0      0.0  ...      0.000000      0.000000   \n",
       "50%        0.0      0.0      0.0  ...      0.000000      0.000000   \n",
       "75%        0.0      0.0      0.0  ...      0.000000      0.000000   \n",
       "max        0.0      0.0      0.0  ...    254.000000    254.000000   \n",
       "\n",
       "           pixel776     pixel777      pixel778      pixel779  pixel780  \\\n",
       "count  42000.000000  42000.00000  42000.000000  42000.000000   42000.0   \n",
       "mean       0.059024      0.02019      0.017238      0.002857       0.0   \n",
       "std        3.274488      1.75987      1.894498      0.414264       0.0   \n",
       "min        0.000000      0.00000      0.000000      0.000000       0.0   \n",
       "25%        0.000000      0.00000      0.000000      0.000000       0.0   \n",
       "50%        0.000000      0.00000      0.000000      0.000000       0.0   \n",
       "75%        0.000000      0.00000      0.000000      0.000000       0.0   \n",
       "max      253.000000    253.00000    254.000000     62.000000       0.0   \n",
       "\n",
       "       pixel781  pixel782  pixel783  \n",
       "count   42000.0   42000.0   42000.0  \n",
       "mean        0.0       0.0       0.0  \n",
       "std         0.0       0.0       0.0  \n",
       "min         0.0       0.0       0.0  \n",
       "25%         0.0       0.0       0.0  \n",
       "50%         0.0       0.0       0.0  \n",
       "75%         0.0       0.0       0.0  \n",
       "max         0.0       0.0       0.0  \n",
       "\n",
       "[8 rows x 785 columns]"
      ]
     },
     "execution_count": 20,
     "metadata": {},
     "output_type": "execute_result"
    }
   ],
   "source": [
    "# train data summary\n",
    "train_df.describe()"
   ]
  },
  {
   "cell_type": "code",
   "execution_count": 21,
   "id": "infinite-scout",
   "metadata": {},
   "outputs": [
    {
     "data": {
      "text/plain": [
       "False"
      ]
     },
     "execution_count": 21,
     "metadata": {},
     "output_type": "execute_result"
    }
   ],
   "source": [
    "# check to see if any null values exist in train data\n",
    "train_df.isnull().values.any()"
   ]
  },
  {
   "cell_type": "markdown",
   "id": "fifteen-dispatch",
   "metadata": {},
   "source": [
    "**Questions:**\n",
    "- What do the pixel values mean?\n",
    "    - **Each image is 28 x 28 pixels for a total of 784 pixels. Each pixel is assigned an integer value within the interval \\[0, 255\\] indicating its level of darkness, where higher values correspond to higher levels of darkness.**\n",
    "     \n",
    "    <br>\n",
    "    \n",
    "- Are there any null values? (most likely not for this data set but good practice to check)\n",
    "    - **No, there are no null values.**\n",
    "    \n",
    "    <br>\n",
    "    \n",
    "- What are the columns? What are the rows?\n",
    "    - **The \"label\" column is the digit drawn by the user. The other columns contain the pixel-values of the associated image.**\n",
    "    - **Each row is associated with an image.**"
   ]
  },
  {
   "cell_type": "code",
   "execution_count": 22,
   "id": "e085ef5e",
   "metadata": {},
   "outputs": [],
   "source": [
    "# separate \"label\" column from input variables in train data\n",
    "Y_train = train_df[\"label\"]\n",
    "X_train = train_df.drop(labels = [\"label\"], axis = 1) "
   ]
  },
  {
   "cell_type": "code",
   "execution_count": 23,
   "id": "e1c48184",
   "metadata": {},
   "outputs": [],
   "source": [
    "# create an array containing 28x28 subarrays for each image\n",
    "images = X_train.values.reshape([42000, 28, 28])"
   ]
  },
  {
   "cell_type": "code",
   "execution_count": 24,
   "id": "1b4ca08f",
   "metadata": {},
   "outputs": [],
   "source": [
    "# visualize distribution of \"label\" values\n",
    "\n",
    "# plt.figure(figsize=(15,7))\n",
    "# plt.hist(Y_train, bins = np.arange(11)-0.5, edgecolor = 'white')\n",
    "# numbers = [x for x in range(0,10)]\n",
    "# labels = map(lambda x: str(x), numbers)\n",
    "# plt.xticks(numbers, labels)\n",
    "# plt.title('Histogram of \"Label\"')\n",
    "# plt.show()"
   ]
  },
  {
   "cell_type": "code",
   "execution_count": 25,
   "id": "3d09f6f1",
   "metadata": {},
   "outputs": [
    {
     "name": "stderr",
     "output_type": "stream",
     "text": [
      "/Users/taigaschwarz/opt/anaconda3/lib/python3.8/site-packages/seaborn/_decorators.py:36: FutureWarning: Pass the following variable as a keyword arg: x. From version 0.12, the only valid positional argument will be `data`, and passing other arguments without an explicit keyword will result in an error or misinterpretation.\n",
      "  warnings.warn(\n"
     ]
    },
    {
     "data": {
      "text/plain": [
       "1    4684\n",
       "7    4401\n",
       "3    4351\n",
       "9    4188\n",
       "2    4177\n",
       "6    4137\n",
       "0    4132\n",
       "4    4072\n",
       "8    4063\n",
       "5    3795\n",
       "Name: label, dtype: int64"
      ]
     },
     "execution_count": 25,
     "metadata": {},
     "output_type": "execute_result"
    },
    {
     "data": {
      "image/png": "[encoded data removed]",
      "text/plain": [
       "<Figure size 1080x504 with 1 Axes>"
      ]
     },
     "metadata": {
      "needs_background": "light"
     },
     "output_type": "display_data"
    }
   ],
   "source": [
    "# visualize distribution of \"label\" values -- example using seaborn\n",
    "plt.figure(figsize=(15,7))\n",
    "graph = sns.countplot(Y_train, palette=\"icefire\")\n",
    "plt.title(\"Number of digit classes\")\n",
    "Y_train.value_counts()"
   ]
  },
  {
   "cell_type": "markdown",
   "id": "9f726c0a",
   "metadata": {},
   "source": [
    "The distribution of the digit classes is closed to balanced, thus there should not be an issue with having any of the labels underrepresented by the model."
   ]
  },
  {
   "cell_type": "code",
   "execution_count": 26,
   "id": "14388aee",
   "metadata": {},
   "outputs": [
    {
     "data": {
      "image/png": "[encoded data removed]",
      "text/plain": [
       "<Figure size 432x288 with 25 Axes>"
      ]
     },
     "metadata": {
      "needs_background": "light"
     },
     "output_type": "display_data"
    }
   ],
   "source": [
    "# plot the images \n",
    "n_rows, n_cols = 5, 5\n",
    "fig, ax = plt.subplots(n_rows, n_cols)\n",
    "counter = 0\n",
    "\n",
    "for i in range(n_rows*n_cols):\n",
    "    y_pos = counter // n_rows\n",
    "    x_pos = counter % n_cols\n",
    "    ax[y_pos][x_pos].imshow(images[counter], cmap = \"gray\") \n",
    "    counter += 1"
   ]
  },
  {
   "cell_type": "markdown",
   "id": "42812f5a",
   "metadata": {},
   "source": [
    "## Data Normalization and Preparation for Modeling"
   ]
  },
  {
   "cell_type": "code",
   "execution_count": 27,
   "id": "367ebce6",
   "metadata": {},
   "outputs": [],
   "source": [
    "# normalize pixel values to 0-1 scale\n",
    "X_train = X_train/255\n",
    "test_df = test_df/255"
   ]
  },
  {
   "cell_type": "code",
   "execution_count": 28,
   "id": "9d11f510",
   "metadata": {},
   "outputs": [
    {
     "name": "stdout",
     "output_type": "stream",
     "text": [
      "train data shape:  (42000, 28, 28, 1)\n",
      "test data shape:  (28000, 28, 28, 1)\n"
     ]
    }
   ],
   "source": [
    "# reshape all data to 28x28x1 3D matrices -- Keras needs an extra dimension in the end which correspond to channels\n",
    "X_train = X_train.values.reshape(-1, 28, 28, 1)  # -1 tells numpy to figure out the array length given the other dim\n",
    "test_df = test_df.values.reshape(-1 , 28, 28, 1)\n",
    "print(\"train data shape: \", X_train.shape)\n",
    "print(\"test data shape: \", test_df.shape)"
   ]
  },
  {
   "cell_type": "code",
   "execution_count": 29,
   "id": "33a7f7fa",
   "metadata": {},
   "outputs": [],
   "source": [
    "# label encoding -- convert to one-hot-encoding\n",
    "from keras.utils.np_utils import to_categorical\n",
    "Y_train = to_categorical(Y_train, num_classes = 10)"
   ]
  },
  {
   "cell_type": "markdown",
   "id": "77af5559",
   "metadata": {},
   "source": [
    "### Train Test Split  \n",
    "- Test size = 10%\n",
    "- Train size = 90%\n",
    "\n",
    "We can probably play around with these proportions to see how much the training results depend on them."
   ]
  },
  {
   "cell_type": "code",
   "execution_count": 30,
   "id": "1a55b6ed",
   "metadata": {},
   "outputs": [
    {
     "name": "stdout",
     "output_type": "stream",
     "text": [
      "x_train shape:  (37800, 28, 28, 1)\n",
      "x_test shape:  (4200, 28, 28, 1)\n",
      "y_train shape:  (37800, 10)\n",
      "y_test shape:  (4200, 10)\n"
     ]
    }
   ],
   "source": [
    "# train test split\n",
    "from sklearn.model_selection import train_test_split\n",
    "X_train, X_test, Y_train, Y_test = train_test_split(X_train, Y_train, test_size = 0.1, random_state=2)\n",
    "print(\"x_train shape: \", X_train.shape)\n",
    "print(\"x_test shape: \", X_test.shape)\n",
    "print(\"y_train shape: \", Y_train.shape)\n",
    "print(\"y_test shape: \", Y_test.shape)"
   ]
  },
  {
   "cell_type": "markdown",
   "id": "34614ae0",
   "metadata": {},
   "source": [
    "## Model Creation - Convolutional Neural Network"
   ]
  },
  {
   "cell_type": "markdown",
   "id": "dbfb8f87",
   "metadata": {},
   "source": [
    "**Create model:**"
   ]
  },
  {
   "cell_type": "code",
   "execution_count": 31,
   "id": "012ec3d2",
   "metadata": {},
   "outputs": [],
   "source": [
    "# import packages\n",
    "from sklearn.metrics import confusion_matrix\n",
    "import itertools\n",
    "from keras.models import Sequential\n",
    "from keras.layers import Dense, Dropout, Flatten, Conv2D, MaxPool2D\n",
    "from keras.optimizers import RMSprop, Adam\n",
    "from keras.preprocessing.image import ImageDataGenerator\n",
    "from keras.callbacks import ReduceLROnPlateau\n",
    "\n",
    "# define model\n",
    "model = Sequential()\n",
    "\n",
    "# add first layer of conv filter, max pooling, and dropout\n",
    "model.add(Conv2D(filters = 8, kernel_size = (5,5),padding = 'Same', \n",
    "                 activation ='relu', input_shape = (28,28,1)))\n",
    "model.add(MaxPool2D(pool_size=(2,2)))\n",
    "model.add(Dropout(0.25))\n",
    "\n",
    "# add second layer of conv filter, max pooling, and dropout\n",
    "model.add(Conv2D(filters = 16, kernel_size = (3,3),padding = 'Same', \n",
    "                 activation ='relu'))\n",
    "model.add(MaxPool2D(pool_size=(2,2), strides=(2,2)))\n",
    "model.add(Dropout(0.25))\n",
    "\n",
    "# fully connected\n",
    "model.add(Flatten())\n",
    "model.add(Dense(256, activation = \"relu\"))\n",
    "model.add(Dropout(0.5))\n",
    "model.add(Dense(10, activation = \"softmax\"))"
   ]
  },
  {
   "cell_type": "markdown",
   "id": "93ba03ac",
   "metadata": {},
   "source": [
    "**Define optimizer:**"
   ]
  },
  {
   "cell_type": "code",
   "execution_count": 32,
   "id": "daa4e5db",
   "metadata": {},
   "outputs": [],
   "source": [
    "# define Adam optimizer\n",
    "# optimizer = Adam(lr = 0.001, beta_1 = 0.9, beta_2 = 0.999)"
   ]
  },
  {
   "cell_type": "markdown",
   "id": "010e0bec",
   "metadata": {},
   "source": [
    "**Compile model:**"
   ]
  },
  {
   "cell_type": "code",
   "execution_count": 33,
   "id": "d97fdeb0",
   "metadata": {},
   "outputs": [],
   "source": [
    "model.compile(\n",
    "    optimizer = \"adam\",\n",
    "    loss = \"categorical_crossentropy\",\n",
    "    metrics=[\"accuracy\"])"
   ]
  },
  {
   "cell_type": "markdown",
   "id": "9d5c15c7",
   "metadata": {},
   "source": [
    "**Set epoch and batch size:**"
   ]
  },
  {
   "cell_type": "code",
   "execution_count": 34,
   "id": "01ac5caf",
   "metadata": {},
   "outputs": [],
   "source": [
    "epochs = 10  # for better result increase the epochs\n",
    "batch_size = 250"
   ]
  },
  {
   "cell_type": "markdown",
   "id": "5853a009",
   "metadata": {},
   "source": [
    "**Data Augmentation:**  \n",
    "- Make small changes to the orientation and/or scale of the training images to artifically expand the trainig data. This will help prevent overfitting."
   ]
  },
  {
   "cell_type": "code",
   "execution_count": 35,
   "id": "1262c7db",
   "metadata": {},
   "outputs": [],
   "source": [
    "# data augmentation\n",
    "\n",
    "datagen = ImageDataGenerator(\n",
    "        featurewise_center=False,  # set input mean to 0 over the dataset\n",
    "        samplewise_center=False,  # set each sample mean to 0\n",
    "        featurewise_std_normalization=False,  # divide inputs by std of the dataset\n",
    "        samplewise_std_normalization=False,  # divide each input by its std\n",
    "        zca_whitening=False,  # dimesion reduction\n",
    "        rotation_range=5,  # randomly rotate images in the range 5 degrees\n",
    "        zoom_range = 0.1, # Randomly zoom image 10%\n",
    "        width_shift_range=0.1,  # randomly shift images horizontally 10%\n",
    "        height_shift_range=0.1,  # randomly shift images vertically 10%\n",
    "        horizontal_flip=False,  # randomly flip images\n",
    "        vertical_flip=False)  # randomly flip images\n",
    "\n",
    "datagen.fit(X_train)"
   ]
  },
  {
   "cell_type": "markdown",
   "id": "586f6770",
   "metadata": {},
   "source": [
    "**Fit the model:**"
   ]
  },
  {
   "cell_type": "code",
   "execution_count": 37,
   "id": "48b31466",
   "metadata": {},
   "outputs": [
    {
     "name": "stdout",
     "output_type": "stream",
     "text": [
      "Epoch 1/10\n",
      "151/151 [==============================] - 10s 66ms/step - loss: 0.1543 - accuracy: 0.9535 - val_loss: 0.0472 - val_accuracy: 0.9845\n",
      "Epoch 2/10\n",
      "151/151 [==============================] - 10s 63ms/step - loss: 0.1483 - accuracy: 0.9541 - val_loss: 0.0496 - val_accuracy: 0.9845\n",
      "Epoch 3/10\n",
      "151/151 [==============================] - 9s 62ms/step - loss: 0.1378 - accuracy: 0.9564 - val_loss: 0.0454 - val_accuracy: 0.9857\n",
      "Epoch 4/10\n",
      "151/151 [==============================] - 10s 64ms/step - loss: 0.1367 - accuracy: 0.9579 - val_loss: 0.0446 - val_accuracy: 0.9862\n",
      "Epoch 5/10\n",
      "151/151 [==============================] - 10s 65ms/step - loss: 0.1303 - accuracy: 0.9598 - val_loss: 0.0439 - val_accuracy: 0.9860\n",
      "Epoch 6/10\n",
      "151/151 [==============================] - 10s 63ms/step - loss: 0.1305 - accuracy: 0.9611 - val_loss: 0.0414 - val_accuracy: 0.9876\n",
      "Epoch 7/10\n",
      "151/151 [==============================] - 10s 65ms/step - loss: 0.1226 - accuracy: 0.9620 - val_loss: 0.0372 - val_accuracy: 0.9879\n",
      "Epoch 8/10\n",
      "151/151 [==============================] - 10s 64ms/step - loss: 0.1244 - accuracy: 0.9609 - val_loss: 0.0370 - val_accuracy: 0.9888\n",
      "Epoch 9/10\n",
      "151/151 [==============================] - 10s 65ms/step - loss: 0.1243 - accuracy: 0.9624 - val_loss: 0.0438 - val_accuracy: 0.9867\n",
      "Epoch 10/10\n",
      "151/151 [==============================] - 10s 64ms/step - loss: 0.1188 - accuracy: 0.9636 - val_loss: 0.0422 - val_accuracy: 0.9874\n"
     ]
    }
   ],
   "source": [
    "# Fit the model\n",
    "history = model.fit(datagen.flow(X_train,Y_train, batch_size = batch_size),\n",
    "                              epochs = epochs, \n",
    "                              validation_data = (X_test,Y_test), \n",
    "                              steps_per_epoch = X_train.shape[0] // batch_size)"
   ]
  },
  {
   "cell_type": "markdown",
   "id": "386b7f1d",
   "metadata": {},
   "source": [
    "## Evaluate the Model:"
   ]
  },
  {
   "cell_type": "markdown",
   "id": "8d455e31",
   "metadata": {},
   "source": [
    "**Test Loss History:**"
   ]
  },
  {
   "cell_type": "code",
   "execution_count": 38,
   "id": "34eaaafe",
   "metadata": {},
   "outputs": [
    {
     "data": {
      "image/png": "[encoded data removed]",
      "text/plain": [
       "<Figure size 432x288 with 1 Axes>"
      ]
     },
     "metadata": {
      "needs_background": "light"
     },
     "output_type": "display_data"
    }
   ],
   "source": [
    "# Plot the loss and accuracy curves for training and validation \n",
    "plt.plot(history.history['val_loss'], color = 'b', label = \"validation loss\")\n",
    "plt.title(\"Test Loss\")\n",
    "plt.xlabel(\"Number of Epochs\")\n",
    "plt.ylabel(\"Loss\")\n",
    "plt.legend()\n",
    "plt.show()"
   ]
  },
  {
   "cell_type": "code",
   "execution_count": 39,
   "id": "a0156f94",
   "metadata": {},
   "outputs": [
    {
     "data": {
      "image/png": "[encoded data removed]",
      "text/plain": [
       "<Figure size 576x576 with 2 Axes>"
      ]
     },
     "metadata": {
      "needs_background": "light"
     },
     "output_type": "display_data"
    }
   ],
   "source": [
    "# confusion matrix\n",
    "\n",
    "import seaborn as sns\n",
    "\n",
    "# Predict the values from the validation dataset\n",
    "Y_pred = model.predict(X_test)\n",
    "\n",
    "# Convert predictions classes to one hot vectors \n",
    "Y_pred_classes = np.argmax(Y_pred,axis = 1) \n",
    "\n",
    "# Convert validation observations to one hot vectors\n",
    "Y_true = np.argmax(Y_test,axis = 1) \n",
    "\n",
    "# compute the confusion matrix\n",
    "confusion_mtx = confusion_matrix(Y_true, Y_pred_classes) \n",
    "\n",
    "# plot the confusion matrix\n",
    "f,ax = plt.subplots(figsize = (8, 8))\n",
    "sns.heatmap(confusion_mtx, annot = True, linewidths = 0.01, cmap = \"Greens\", \n",
    "            linecolor = \"gray\", fmt = '.1f',ax = ax)\n",
    "plt.xlabel(\"Predicted Label\")\n",
    "plt.ylabel(\"True Label\")\n",
    "plt.title(\"Confusion Matrix\")\n",
    "plt.show()"
   ]
  },
  {
   "cell_type": "code",
   "execution_count": null,
   "id": "8d449fa9",
   "metadata": {},
   "outputs": [],
   "source": []
  }
 ],
 "metadata": {
  "kernelspec": {
   "display_name": "Python 3",
   "language": "python",
   "name": "python3"
  },
  "language_info": {
   "codemirror_mode": {
    "name": "ipython",
    "version": 3
   },
   "file_extension": ".py",
   "mimetype": "text/x-python",
   "name": "python",
   "nbconvert_exporter": "python",
   "pygments_lexer": "ipython3",
   "version": "3.8.8"
  }
 },
 "nbformat": 4,
 "nbformat_minor": 5
}
